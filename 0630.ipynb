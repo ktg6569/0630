{
  "nbformat": 4,
  "nbformat_minor": 0,
  "metadata": {
    "colab": {
      "provenance": [],
      "authorship_tag": "ABX9TyNNAEt1G2m7+Fooiv35pyfQ",
      "include_colab_link": true
    },
    "kernelspec": {
      "name": "python3",
      "display_name": "Python 3"
    },
    "language_info": {
      "name": "python"
    }
  },
  "cells": [
    {
      "cell_type": "markdown",
      "metadata": {
        "id": "view-in-github",
        "colab_type": "text"
      },
      "source": [
        "<a href=\"https://colab.research.google.com/github/ktg6569/0630/blob/main/0630.ipynb\" target=\"_parent\"><img src=\"https://colab.research.google.com/assets/colab-badge.svg\" alt=\"Open In Colab\"/></a>"
      ]
    },
    {
      "cell_type": "code",
      "execution_count": null,
      "metadata": {
        "id": "9ycvZavuX3iv",
        "outputId": "b12018be-d9b0-4f3d-d0eb-17c4c012b25c",
        "colab": {
          "base_uri": "https://localhost:8080/"
        }
      },
      "outputs": [
        {
          "output_type": "stream",
          "name": "stdout",
          "text": [
            "🚗 자율주행 장애물 감지 시스템\n",
            "------------------------------\n",
            "\n",
            "🚨 감지된 장애물: ['앞', '오른쪽']\n"
          ]
        }
      ],
      "source": [
        "# 센서 데이터 (거리 측정값, 단위: 미터)\n",
        "sensors = {\n",
        "    \"앞\": 8.0,\n",
        "    \"왼쪽\": 15.0,\n",
        "    \"오른쪽\": 4.0\n",
        "}\n",
        "# 안전 거리 설정\n",
        "safe_distance = 10.0\n",
        "if __name__ == \"__main__\":\n",
        "    print(\"🚗 자율주행 장애물 감지 시스템\")\n",
        "    print(\"-\" * 30)\n",
        "\n",
        "    # 장애물 감지\n",
        "    obstacles = []\n",
        "    for direction, distance in sensors.items():\n",
        "        if distance < safe_distance:\n",
        "            obstacles.append(direction)\n",
        "\n",
        "    print(f\"\\n🚨 감지된 장애물: {obstacles}\")"
      ]
    }
  ]
}